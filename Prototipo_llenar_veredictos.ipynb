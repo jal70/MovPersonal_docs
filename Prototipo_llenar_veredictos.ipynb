{
 "cells": [
  {
   "cell_type": "code",
   "execution_count": 1,
   "metadata": {},
   "outputs": [],
   "source": [
    "from ezodf import newdoc\n",
    "import os\n",
    "import zipfile\n",
    "import tempfile"
   ]
  },
  {
   "cell_type": "code",
   "execution_count": 2,
   "metadata": {},
   "outputs": [],
   "source": [
    "def updateZip(zipname, filename, data):\n",
    "    # This function and general algoritm from:\n",
    "    # https://stackoverflow.com/questions/30596477/editing-a-odt-file-using-python\n",
    "    # generate a temp file\n",
    "    tmpfd, tmpname = tempfile.mkstemp(dir=os.path.dirname(zipname))\n",
    "    os.close(tmpfd)\n",
    "\n",
    "    # create a temp copy of the archive without filename\n",
    "    with zipfile.ZipFile(zipname, 'r') as zin:\n",
    "        with zipfile.ZipFile(tmpname, 'w') as zout:\n",
    "            zout.comment = zin.comment # preserve the comment\n",
    "            for item in zin.infolist():\n",
    "                if item.filename != filename:\n",
    "                    zout.writestr(item, zin.read(item.filename))\n",
    "\n",
    "    # replace with the temp archive\n",
    "    os.remove(zipname)\n",
    "    os.rename(tmpname, zipname)\n",
    "\n",
    "    # now add filename with its new data\n",
    "    with zipfile.ZipFile(zipname, mode='a', compression=zipfile.ZIP_DEFLATED) as zf:\n",
    "        zf.writestr(filename, data)"
   ]
  },
  {
   "cell_type": "code",
   "execution_count": 3,
   "metadata": {},
   "outputs": [],
   "source": [
    "def lee_pendientes(filename,sep=\"|\"):\n",
    "    papiro = []\n",
    "    with open(filename) as my_file:\n",
    "        for line in my_file:\n",
    "            if len(line.strip()) != 0: # Condición de linea (no) vacía\n",
    "                l=line.strip().split(sep) # \"Limpia\" los extremos y la pica en pedazos separados por espacios\n",
    "                #l=list(map(float, l)) # Convierte los elementos en números\n",
    "                papiro.append(l) # Agrega la fila de números al arreglo\n",
    "    dim=len(papiro[0])\n",
    "    print('dim=',dim)\n",
    "    return(papiro)"
   ]
  },
  {
   "cell_type": "code",
   "execution_count": 4,
   "metadata": {},
   "outputs": [],
   "source": [
    "nombre_generico=['XXX_NOMBRE_ESTUDIANTE_XXX',\n",
    "'XXX_CEDULA_ESTUDIANTE_XXX',\n",
    "'XXX_TITULO_TEG_XXX',\n",
    "'XXX_TITULO_QUE_ASPIRA_XXX',\n",
    "'XXX_DIA_DEFENSA_XXX',\n",
    "'XXX_MES_DEFENSA_XXX',\n",
    "'XXX_ANHO_DEFENSA_XXX',\n",
    "'XXX_HORA_DEFENSA_XXX',\n",
    "'XXX_LUGAR_DEFENSA_XXX',\n",
    "'XXX_DIA_ACTA_XXX',\n",
    "'XXX_MES_ACTA_XXX',\n",
    "'XXX_ANHO_ACTA_XXX',\n",
    "'XXX_COORDINADOR_A_JURADO_XXX',\n",
    "'XXX_EL_LA_TUTOR_A_XXX',\n",
    "'XXX_TITULO_TUTOR_XXX',\n",
    "'XXX_NOMBRE_TUTOR_XXX',\n",
    "'XXX_ADSCRIPCION_TUTOR_XXX',\n",
    "'XXX_TITULO_JURADO_1_XXX',\n",
    "'XXX_NOMBRE_JURADO_1_XXX',\n",
    "'XXX_ADS_JURADO_1_XXX',\n",
    "'XXX_TITULO_JURADO_2_XXX',\n",
    "'XXX_NOMBRE_JURADO_2_XXX',\n",
    "'XXX_ADS_JURADO_2_XXX']"
   ]
  },
  {
   "cell_type": "code",
   "execution_count": 5,
   "metadata": {},
   "outputs": [],
   "source": [
    "def diccionario(lista_claves,lista_contenido):\n",
    "    dic={lista_claves[0]:lista_contenido[1],\n",
    "        lista_claves[1]:lista_contenido[3],\n",
    "        lista_claves[2]:lista_contenido[4],\n",
    "        lista_claves[3]:'', #lista_contenido[2]\n",
    "        lista_claves[4]:lista_contenido[24],\n",
    "        lista_claves[5]:lista_contenido[25],\n",
    "        lista_claves[6]:lista_contenido[26],\n",
    "        lista_claves[7]:lista_contenido[27],\n",
    "        lista_claves[8]:lista_contenido[28],\n",
    "        lista_claves[9]:lista_contenido[24],\n",
    "        lista_claves[10]:lista_contenido[25],\n",
    "        lista_claves[11]:lista_contenido[26],\n",
    "        lista_claves[12]:'', #lista_contenido[6],\n",
    "        lista_claves[13]:'', #lista_contenido[6],\n",
    "        lista_claves[14]:lista_contenido[7],\n",
    "        lista_claves[15]:lista_contenido[5],\n",
    "        lista_claves[16]:lista_contenido[9],\n",
    "        lista_claves[17]:lista_contenido[11],\n",
    "        lista_claves[18]:lista_contenido[10],\n",
    "        lista_claves[19]:lista_contenido[13],\n",
    "        lista_claves[20]:lista_contenido[15],\n",
    "        lista_claves[21]:lista_contenido[14],\n",
    "        lista_claves[22]:lista_contenido[17],\n",
    "        }\n",
    "    if lista_contenido[2]=='f':\n",
    "        dic[lista_claves[3]]='Licenciada'\n",
    "    else:\n",
    "        dic[lista_claves[3]]='Licenciado'\n",
    "    if lista_contenido[6]=='f':\n",
    "        dic[lista_claves[12]]='Coordinadora'\n",
    "    else:\n",
    "        dic[lista_claves[12]]='Coordinador'\n",
    "    if lista_contenido[6]=='f':\n",
    "        dic[lista_claves[13]]='la Tutora'\n",
    "    else:\n",
    "        dic[lista_claves[13]]='el Tutor'\n",
    "    return(dic)"
   ]
  },
  {
   "cell_type": "code",
   "execution_count": 6,
   "metadata": {
    "scrolled": true
   },
   "outputs": [
    {
     "name": "stdout",
     "output_type": "stream",
     "text": [
      "dim= 31\n"
     ]
    }
   ],
   "source": [
    "ejemplo_contenido=lee_pendientes('lista_veredictos.csv')[1]"
   ]
  },
  {
   "cell_type": "code",
   "execution_count": 7,
   "metadata": {},
   "outputs": [],
   "source": [
    "nombre_especifico=diccionario(nombre_generico,ejemplo_contenido)"
   ]
  },
  {
   "cell_type": "code",
   "execution_count": 12,
   "metadata": {},
   "outputs": [
    {
     "name": "stdout",
     "output_type": "stream",
     "text": [
      "XXX_NOMBRE_ESTUDIANTE_XXX Claudia  Verowska Barrios Arvelaez\n",
      "XXX_CEDULA_ESTUDIANTE_XXX 22785112\n",
      "XXX_TITULO_TEG_XXX Determinación de cuerdas y períodos de rotación sinódicos de asteroides mediante el empleo de técnicas de fotometría CCD para la obtención de sus curvas de luz\n",
      "XXX_TITULO_QUE_ASPIRA_XXX Licenciada\n",
      "XXX_DIA_DEFENSA_XXX 15\n",
      "XXX_MES_DEFENSA_XXX abril\n",
      "XXX_ANHO_DEFENSA_XXX 2019\n",
      "XXX_HORA_DEFENSA_XXX las 11:00 am\n",
      "XXX_LUGAR_DEFENSA_XXX la Sala de Seminarios Guillermo Ruggeri de la Escuela de Física\n",
      "XXX_DIA_ACTA_XXX 15\n",
      "XXX_MES_ACTA_XXX abril\n",
      "XXX_ANHO_ACTA_XXX 2019\n",
      "XXX_COORDINADOR_A_JURADO_XXX Coordinador\n",
      "XXX_EL_LA_TUTOR_A_XXX el Tutor\n",
      "XXX_TITULO_TUTOR_XXX Prof\n",
      "XXX_NOMBRE_TUTOR_XXX Nelson Enrique Bolivar Cova\n",
      "XXX_ADSCRIPCION_TUTOR_XXX UCV\n",
      "XXX_TITULO_JURADO_1_XXX Prof\n",
      "XXX_NOMBRE_JURADO_1_XXX Fermín Arturo Dalmagro Alonso\n",
      "XXX_ADS_JURADO_1_XXX UCV\n",
      "XXX_TITULO_JURADO_2_XXX Prof\n",
      "XXX_NOMBRE_JURADO_2_XXX Ernesto  Fuenmayor Di Prisco\n",
      "XXX_ADS_JURADO_2_XXX UCV\n"
     ]
    }
   ],
   "source": [
    "a = zipfile.ZipFile('test/plantilla_veredicto.odt')\n",
    "content = a.read('content.xml')\n",
    "content = str(content.decode(encoding='utf8'))\n",
    "for i in nombre_generico:\n",
    "    print(i,nombre_especifico[i])\n",
    "    content = str.replace(content,i, nombre_especifico[i])\n",
    "content = content.encode(encoding='utf8') #https://www.journaldev.com/23617/python-string-encode-decode\n",
    "updateZip('test/prueba.odt', 'content.xml', content)"
   ]
  },
  {
   "cell_type": "code",
   "execution_count": null,
   "metadata": {},
   "outputs": [],
   "source": []
  }
 ],
 "metadata": {
  "kernelspec": {
   "display_name": "Python 3",
   "language": "python",
   "name": "python3"
  },
  "language_info": {
   "codemirror_mode": {
    "name": "ipython",
    "version": 3
   },
   "file_extension": ".py",
   "mimetype": "text/x-python",
   "name": "python",
   "nbconvert_exporter": "python",
   "pygments_lexer": "ipython3",
   "version": "3.7.3"
  }
 },
 "nbformat": 4,
 "nbformat_minor": 2
}
